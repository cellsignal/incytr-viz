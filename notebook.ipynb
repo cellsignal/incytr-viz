{
 "cells": [
  {
   "cell_type": "code",
   "execution_count": null,
   "metadata": {},
   "outputs": [],
   "source": [
    "%pip install numpy pandas plotly dash matplotlib dash-cytoscape==0.3.0"
   ]
  },
  {
   "cell_type": "code",
   "execution_count": null,
   "metadata": {},
   "outputs": [],
   "source": [
    "from app import incytr_app\n",
    "\n",
    "CLUSTERS_A_FILE = \"data/mc38_fake/population_a.csv\"\n",
    "CLUSTERS_B_FILE = \"data/mc38_fake/population_b.csv\"\n",
    "PATHWAYS_FILE = \"data/mc38_fake/pathways_small_short.csv\"\n",
    "\n",
    "\n",
    "app = incytr_app(PATHWAYS_FILE, CLUSTERS_A_FILE, CLUSTERS_B_FILE)\n",
    "\n",
    "app.run(debug=True)\n",
    "\n"
   ]
  }
 ],
 "metadata": {
  "kernelspec": {
   "display_name": "incytr-viz",
   "language": "python",
   "name": "python3"
  },
  "language_info": {
   "codemirror_mode": {
    "name": "ipython",
    "version": 3
   },
   "file_extension": ".py",
   "mimetype": "text/x-python",
   "name": "python",
   "nbconvert_exporter": "python",
   "pygments_lexer": "ipython3",
   "version": "3.11.9"
  }
 },
 "nbformat": 4,
 "nbformat_minor": 2
}
