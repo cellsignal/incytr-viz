{
 "cells": [
  {
   "cell_type": "code",
   "execution_count": null,
   "metadata": {},
   "outputs": [],
   "source": [
    "%pip install ."
   ]
  },
  {
   "cell_type": "code",
   "execution_count": null,
   "metadata": {},
   "outputs": [],
   "source": [
    "from incytr_viz.__main__ import jupyter\n",
    "\n",
    "\n",
    "CLUSTERS = \"/home/icossentino/code/incytr-viz/data/mc38_011325/pop.csv\"\n",
    "PATHWAYS = \"/home/icossentino/code/incytr-viz/data/mc38_011325/mc38_hegs_degs_proteomics_kldb_jan2025_CH_short.csv\"\n",
    "\n",
    "jupyter(PATHWAYS, CLUSTERS)\n"
   ]
  }
 ],
 "metadata": {
  "kernelspec": {
   "display_name": "incytr-viz",
   "language": "python",
   "name": "python3"
  },
  "language_info": {
   "codemirror_mode": {
    "name": "ipython",
    "version": 3
   },
   "file_extension": ".py",
   "mimetype": "text/x-python",
   "name": "python",
   "nbconvert_exporter": "python",
   "pygments_lexer": "ipython3",
   "version": "3.11.9"
  }
 },
 "nbformat": 4,
 "nbformat_minor": 2
}
