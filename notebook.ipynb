{
 "cells": [
  {
   "cell_type": "code",
   "execution_count": 1,
   "metadata": {},
   "outputs": [
    {
     "name": "stdout",
     "output_type": "stream",
     "text": [
      "Processing /home/icossentino/code/incytr-viz\n",
      "  Installing build dependencies ... \u001b[?25ldone\n",
      "\u001b[?25h  Getting requirements to build wheel ... \u001b[?25ldone\n",
      "\u001b[?25h  Preparing metadata (pyproject.toml) ... \u001b[?25ldone\n",
      "\u001b[?25hRequirement already satisfied: dash in /home/icossentino/miniconda3/envs/incytr-viz/lib/python3.11/site-packages (from incytr_viz==0.0.1) (2.14.2)\n",
      "Requirement already satisfied: dash_cytoscape==0.3.0 in /home/icossentino/miniconda3/envs/incytr-viz/lib/python3.11/site-packages (from incytr_viz==0.0.1) (0.3.0)\n",
      "Requirement already satisfied: dash-bootstrap-components==1.6.0 in /home/icossentino/miniconda3/envs/incytr-viz/lib/python3.11/site-packages (from incytr_viz==0.0.1) (1.6.0)\n",
      "Requirement already satisfied: pandas in /home/icossentino/miniconda3/envs/incytr-viz/lib/python3.11/site-packages (from incytr_viz==0.0.1) (2.2.1)\n",
      "Requirement already satisfied: plotly in /home/icossentino/miniconda3/envs/incytr-viz/lib/python3.11/site-packages (from incytr_viz==0.0.1) (5.19.0)\n",
      "Requirement already satisfied: matplotlib in /home/icossentino/miniconda3/envs/incytr-viz/lib/python3.11/site-packages (from incytr_viz==0.0.1) (3.9.1)\n",
      "Requirement already satisfied: Flask<3.1,>=1.0.4 in /home/icossentino/miniconda3/envs/incytr-viz/lib/python3.11/site-packages (from dash->incytr_viz==0.0.1) (2.2.5)\n",
      "Requirement already satisfied: Werkzeug<3.1 in /home/icossentino/miniconda3/envs/incytr-viz/lib/python3.11/site-packages (from dash->incytr_viz==0.0.1) (2.3.8)\n",
      "Requirement already satisfied: typing-extensions>=4.1.1 in /home/icossentino/miniconda3/envs/incytr-viz/lib/python3.11/site-packages (from dash->incytr_viz==0.0.1) (4.9.0)\n",
      "Requirement already satisfied: requests in /home/icossentino/miniconda3/envs/incytr-viz/lib/python3.11/site-packages (from dash->incytr_viz==0.0.1) (2.31.0)\n",
      "Requirement already satisfied: retrying in /home/icossentino/miniconda3/envs/incytr-viz/lib/python3.11/site-packages (from dash->incytr_viz==0.0.1) (1.3.3)\n",
      "Requirement already satisfied: ansi2html in /home/icossentino/miniconda3/envs/incytr-viz/lib/python3.11/site-packages (from dash->incytr_viz==0.0.1) (1.9.1)\n",
      "Requirement already satisfied: nest-asyncio in /home/icossentino/miniconda3/envs/incytr-viz/lib/python3.11/site-packages (from dash->incytr_viz==0.0.1) (1.6.0)\n",
      "Requirement already satisfied: setuptools in /home/icossentino/miniconda3/envs/incytr-viz/lib/python3.11/site-packages (from dash->incytr_viz==0.0.1) (68.2.2)\n",
      "Requirement already satisfied: importlib-metadata in /home/icossentino/miniconda3/envs/incytr-viz/lib/python3.11/site-packages (from dash->incytr_viz==0.0.1) (7.0.1)\n",
      "Requirement already satisfied: tenacity>=6.2.0 in /home/icossentino/miniconda3/envs/incytr-viz/lib/python3.11/site-packages (from plotly->incytr_viz==0.0.1) (8.2.2)\n",
      "Requirement already satisfied: packaging in /home/icossentino/miniconda3/envs/incytr-viz/lib/python3.11/site-packages (from plotly->incytr_viz==0.0.1) (24.2)\n",
      "Requirement already satisfied: contourpy>=1.0.1 in /home/icossentino/miniconda3/envs/incytr-viz/lib/python3.11/site-packages (from matplotlib->incytr_viz==0.0.1) (1.2.1)\n",
      "Requirement already satisfied: cycler>=0.10 in /home/icossentino/miniconda3/envs/incytr-viz/lib/python3.11/site-packages (from matplotlib->incytr_viz==0.0.1) (0.12.1)\n",
      "Requirement already satisfied: fonttools>=4.22.0 in /home/icossentino/miniconda3/envs/incytr-viz/lib/python3.11/site-packages (from matplotlib->incytr_viz==0.0.1) (4.53.1)\n",
      "Requirement already satisfied: kiwisolver>=1.3.1 in /home/icossentino/miniconda3/envs/incytr-viz/lib/python3.11/site-packages (from matplotlib->incytr_viz==0.0.1) (1.4.5)\n",
      "Requirement already satisfied: numpy>=1.23 in /home/icossentino/miniconda3/envs/incytr-viz/lib/python3.11/site-packages (from matplotlib->incytr_viz==0.0.1) (1.26.4)\n",
      "Requirement already satisfied: pillow>=8 in /home/icossentino/miniconda3/envs/incytr-viz/lib/python3.11/site-packages (from matplotlib->incytr_viz==0.0.1) (10.4.0)\n",
      "Requirement already satisfied: pyparsing>=2.3.1 in /home/icossentino/miniconda3/envs/incytr-viz/lib/python3.11/site-packages (from matplotlib->incytr_viz==0.0.1) (3.1.2)\n",
      "Requirement already satisfied: python-dateutil>=2.7 in /home/icossentino/miniconda3/envs/incytr-viz/lib/python3.11/site-packages (from matplotlib->incytr_viz==0.0.1) (2.8.2)\n",
      "Requirement already satisfied: pytz>=2020.1 in /home/icossentino/miniconda3/envs/incytr-viz/lib/python3.11/site-packages (from pandas->incytr_viz==0.0.1) (2024.1)\n",
      "Requirement already satisfied: tzdata>=2022.7 in /home/icossentino/miniconda3/envs/incytr-viz/lib/python3.11/site-packages (from pandas->incytr_viz==0.0.1) (2023.3)\n",
      "Requirement already satisfied: Jinja2>=3.0 in /home/icossentino/miniconda3/envs/incytr-viz/lib/python3.11/site-packages (from Flask<3.1,>=1.0.4->dash->incytr_viz==0.0.1) (3.1.3)\n",
      "Requirement already satisfied: itsdangerous>=2.0 in /home/icossentino/miniconda3/envs/incytr-viz/lib/python3.11/site-packages (from Flask<3.1,>=1.0.4->dash->incytr_viz==0.0.1) (2.0.1)\n",
      "Requirement already satisfied: click>=8.0 in /home/icossentino/miniconda3/envs/incytr-viz/lib/python3.11/site-packages (from Flask<3.1,>=1.0.4->dash->incytr_viz==0.0.1) (8.1.7)\n",
      "Requirement already satisfied: six>=1.5 in /home/icossentino/miniconda3/envs/incytr-viz/lib/python3.11/site-packages (from python-dateutil>=2.7->matplotlib->incytr_viz==0.0.1) (1.16.0)\n",
      "Requirement already satisfied: MarkupSafe>=2.1.1 in /home/icossentino/miniconda3/envs/incytr-viz/lib/python3.11/site-packages (from Werkzeug<3.1->dash->incytr_viz==0.0.1) (2.1.3)\n",
      "Requirement already satisfied: zipp>=0.5 in /home/icossentino/miniconda3/envs/incytr-viz/lib/python3.11/site-packages (from importlib-metadata->dash->incytr_viz==0.0.1) (3.17.0)\n",
      "Requirement already satisfied: charset-normalizer<4,>=2 in /home/icossentino/miniconda3/envs/incytr-viz/lib/python3.11/site-packages (from requests->dash->incytr_viz==0.0.1) (2.0.4)\n",
      "Requirement already satisfied: idna<4,>=2.5 in /home/icossentino/miniconda3/envs/incytr-viz/lib/python3.11/site-packages (from requests->dash->incytr_viz==0.0.1) (3.7)\n",
      "Requirement already satisfied: urllib3<3,>=1.21.1 in /home/icossentino/miniconda3/envs/incytr-viz/lib/python3.11/site-packages (from requests->dash->incytr_viz==0.0.1) (2.1.0)\n",
      "Requirement already satisfied: certifi>=2017.4.17 in /home/icossentino/miniconda3/envs/incytr-viz/lib/python3.11/site-packages (from requests->dash->incytr_viz==0.0.1) (2024.2.2)\n",
      "Building wheels for collected packages: incytr_viz\n",
      "  Building wheel for incytr_viz (pyproject.toml) ... \u001b[?25ldone\n",
      "\u001b[?25h  Created wheel for incytr_viz: filename=incytr_viz-0.0.1-py3-none-any.whl size=19221 sha256=50472888f8771b1c3e5a98d6b6f2860a59f11d15c99ef6966056f8a88d00fca0\n",
      "  Stored in directory: /home/icossentino/.cache/pip/wheels/11/36/9c/e0610c9584ec53d90e139080ab74b4254dccea3e18ca078058\n",
      "Successfully built incytr_viz\n",
      "Installing collected packages: incytr_viz\n",
      "  Attempting uninstall: incytr_viz\n",
      "    Found existing installation: incytr_viz 0.0.1\n",
      "    Uninstalling incytr_viz-0.0.1:\n",
      "      Successfully uninstalled incytr_viz-0.0.1\n",
      "Successfully installed incytr_viz-0.0.1\n",
      "Note: you may need to restart the kernel to use updated packages.\n"
     ]
    }
   ],
   "source": [
    "%pip install ."
   ]
  },
  {
   "cell_type": "code",
   "execution_count": 2,
   "metadata": {},
   "outputs": [
    {
     "name": "stderr",
     "output_type": "stream",
     "text": [
      "2025-01-15 15:31:04,534 - Loading cluster populations from /home/icossentino/code/incytr-viz/data/mc38_011325/pop.csv as CSV\n",
      "2025-01-15 15:31:04,558 - Loading pathways from /home/icossentino/code/incytr-viz/data/mc38_011325/mc38_hegs_degs_proteomics_kldb_jan2025_CH_short.csv as CSV\n",
      "2025-01-15 15:31:04,661 - scanning pathways file for required and optional columns\n",
      "2025-01-15 15:31:04,667 - Pathways file column summary\n",
      "╒════════════════╤════════════╤═════════╕\n",
      "│ colname        │ required   │ found   │\n",
      "╞════════════════╪════════════╪═════════╡\n",
      "│ path           │ True       │ True    │\n",
      "├────────────────┼────────────┼─────────┤\n",
      "│ sender         │ True       │ True    │\n",
      "├────────────────┼────────────┼─────────┤\n",
      "│ receiver       │ True       │ True    │\n",
      "├────────────────┼────────────┼─────────┤\n",
      "│ afc            │ True       │ True    │\n",
      "├────────────────┼────────────┼─────────┤\n",
      "│ sigprob_10days │ True       │ True    │\n",
      "├────────────────┼────────────┼─────────┤\n",
      "│ sigprob_14days │ True       │ True    │\n",
      "├────────────────┼────────────┼─────────┤\n",
      "│ p_value_10days │ False      │ True    │\n",
      "├────────────────┼────────────┼─────────┤\n",
      "│ p_value_14days │ False      │ True    │\n",
      "├────────────────┼────────────┼─────────┤\n",
      "│ tprs           │ False      │ True    │\n",
      "├────────────────┼────────────┼─────────┤\n",
      "│ prs            │ False      │ True    │\n",
      "├────────────────┼────────────┼─────────┤\n",
      "│ kinase_r_of_em │ False      │ False   │\n",
      "├────────────────┼────────────┼─────────┤\n",
      "│ kinase_r_of_t  │ False      │ False   │\n",
      "├────────────────┼────────────┼─────────┤\n",
      "│ kinase_em_of_t │ False      │ False   │\n",
      "├────────────────┼────────────┼─────────┤\n",
      "│ umap1          │ False      │ False   │\n",
      "├────────────────┼────────────┼─────────┤\n",
      "│ umap2          │ False      │ False   │\n",
      "╘════════════════╧════════════╧═════════╛\n",
      "2025-01-15 15:31:04,669 - Optional columns missing in pathways file: ['kinase_r_of_em' 'kinase_r_of_t' 'kinase_em_of_t' 'umap1' 'umap2']\n"
     ]
    },
    {
     "name": "stdout",
     "output_type": "stream",
     "text": [
      "\n",
      "  _____                      _          __      __ _      \n",
      " |_   _|                    | |         \\ \\    / /(_)     \n",
      "   | |   _ __    ___  _   _ | |_  _ __   \\ \\  / /  _  ____\n",
      "   | |  | '_ \\  / __|| | | || __|| '__|   \\ \\/ /  | ||_  /\n",
      "  _| |_ | | | || (__ | |_| || |_ | |       \\  /   | | / / \n",
      " |_____||_| |_| \\___| \\__, | \\__||_|        \\/    |_|/___|\n",
      "                       __/ |                              \n",
      "                      |___/                               \n",
      "\n"
     ]
    },
    {
     "name": "stderr",
     "output_type": "stream",
     "text": [
      "2025-01-15 15:31:04,791 - 0 duplicate rows found\n",
      "2025-01-15 15:31:04,793 - 0 rows with invalid values found in required columns\n",
      "2025-01-15 15:31:04,794 - Removing 0 duplicate or invalid rows\n"
     ]
    },
    {
     "data": {
      "text/html": [
       "\n",
       "        <iframe\n",
       "            width=\"100%\"\n",
       "            height=\"650\"\n",
       "            src=\"http://127.0.0.1:8050/\"\n",
       "            frameborder=\"0\"\n",
       "            allowfullscreen\n",
       "            \n",
       "        ></iframe>\n",
       "        "
      ],
      "text/plain": [
       "<IPython.lib.display.IFrame at 0x7f7c0910ad50>"
      ]
     },
     "metadata": {},
     "output_type": "display_data"
    }
   ],
   "source": [
    "from incytr_viz.app import create_app\n",
    "\n",
    "CLUSTERS = \"/home/icossentino/code/incytr-viz/data/mc38_011325/pop.csv\"\n",
    "PATHWAYS = \"/home/icossentino/code/incytr-viz/data/mc38_011325/mc38_hegs_degs_proteomics_kldb_jan2025_CH_short.csv\"\n",
    "\n",
    "\n",
    "app = create_app(PATHWAYS, CLUSTERS)\n",
    "\n",
    "app.run(debug=True)\n",
    "\n"
   ]
  }
 ],
 "metadata": {
  "kernelspec": {
   "display_name": "incytr-viz",
   "language": "python",
   "name": "python3"
  },
  "language_info": {
   "codemirror_mode": {
    "name": "ipython",
    "version": 3
   },
   "file_extension": ".py",
   "mimetype": "text/x-python",
   "name": "python",
   "nbconvert_exporter": "python",
   "pygments_lexer": "ipython3",
   "version": "3.11.9"
  }
 },
 "nbformat": 4,
 "nbformat_minor": 2
}
