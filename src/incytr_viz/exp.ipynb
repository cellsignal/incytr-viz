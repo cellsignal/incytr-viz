{
 "cells": [
  {
   "cell_type": "code",
   "execution_count": null,
   "metadata": {},
   "outputs": [],
   "source": [
    "import numpy as np\n",
    "import pandas as pd"
   ]
  },
  {
   "cell_type": "code",
   "execution_count": 37,
   "metadata": {},
   "outputs": [],
   "source": [
    "from i_o import pathway_dtypes\n",
    "\n",
    "\n",
    "df = pd.read_csv('/home/icossentino/code/incytr-viz/data/hc_bl_frac/filtered_incytr_p.csv', dtype=pathway_dtypes, index_col=\"Path\")\n",
    "\n",
    "df.columns = df.columns.str.strip().str.lower()\n",
    "\n",
    "df.index = df.sender + \"*\" + df.receiver + \"*\" + df.index"
   ]
  }
 ],
 "metadata": {
  "kernelspec": {
   "display_name": "incytr-viz",
   "language": "python",
   "name": "python3"
  },
  "language_info": {
   "codemirror_mode": {
    "name": "ipython",
    "version": 3
   },
   "file_extension": ".py",
   "mimetype": "text/x-python",
   "name": "python",
   "nbconvert_exporter": "python",
   "pygments_lexer": "ipython3",
   "version": "3.11.9"
  }
 },
 "nbformat": 4,
 "nbformat_minor": 2
}
